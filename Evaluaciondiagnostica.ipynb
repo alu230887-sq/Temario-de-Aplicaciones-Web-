{
  "nbformat": 4,
  "nbformat_minor": 0,
  "metadata": {
    "colab": {
      "provenance": [],
      "authorship_tag": "ABX9TyP+RaphJgJH0PhDHkcP/acu",
      "include_colab_link": true
    },
    "kernelspec": {
      "name": "python3",
      "display_name": "Python 3"
    },
    "language_info": {
      "name": "python"
    }
  },
  "cells": [
    {
      "cell_type": "markdown",
      "metadata": {
        "id": "view-in-github",
        "colab_type": "text"
      },
      "source": [
        "<a href=\"https://colab.research.google.com/github/alu230887-sq/Temario-de-Aplicaciones-Web-/blob/main/Evaluaciondiagnostica.ipynb\" target=\"_parent\"><img src=\"https://colab.research.google.com/assets/colab-badge.svg\" alt=\"Open In Colab\"/></a>"
      ]
    },
    {
      "cell_type": "markdown",
      "source": [
        "Imprimir nombre, paterno y materno de Alumno"
      ],
      "metadata": {
        "id": "WSUDrDss0epN"
      }
    },
    {
      "cell_type": "code",
      "execution_count": 4,
      "metadata": {
        "colab": {
          "base_uri": "https://localhost:8080/"
        },
        "id": "7jWG2GEuz4BE",
        "outputId": "7dcbfd21-bf34-4fd0-9ede-c1a58e4e0a48"
      },
      "outputs": [
        {
          "output_type": "stream",
          "name": "stdout",
          "text": [
            "Ingresa tu nombre: luna\n",
            "Ingresa tu apellido paterno:melendez \n",
            "Ingresa tu  apellido materno:espindola\n",
            "luna melendez  espindola\n"
          ]
        }
      ],
      "source": [
        "print (\" Registra tu nombre \")\n",
        "nom=(input(\"Ingresa tu nombre: \"))\n",
        "ap=(input(\"Ingresa tu apellido paterno:\"))\n",
        "apm=(input(\"Ingresa tu  apellido materno:\"))\n",
        "print(nom,ap,apm)"
      ]
    },
    {
      "cell_type": "markdown",
      "source": [
        "Capturar 2 números decimales e imprimir Suma"
      ],
      "metadata": {
        "id": "qfK4I5ul0irr"
      }
    },
    {
      "cell_type": "code",
      "source": [
        "nom=float(input(\"Registra el primer digito\"))\n",
        "nom2=float(input(\" Registra segundo digito\"))\n",
        "print(\"la suma es \")\n",
        "print(nom+nom2)"
      ],
      "metadata": {
        "colab": {
          "base_uri": "https://localhost:8080/"
        },
        "id": "G5vvpfxH0jtE",
        "outputId": "c0fcd786-338d-412b-8bfc-2a3151bd906f"
      },
      "execution_count": 6,
      "outputs": [
        {
          "output_type": "stream",
          "name": "stdout",
          "text": [
            "Registra el primer digito2.3\n",
            " Registra segundo digito3.4\n",
            "la suma es \n",
            "5.699999999999999\n"
          ]
        }
      ]
    },
    {
      "cell_type": "markdown",
      "source": [
        "Calcular el área de un círculo"
      ],
      "metadata": {
        "id": "QECfmsmV0lQT"
      }
    },
    {
      "cell_type": "code",
      "source": [
        "radio=float(input(\" ingresa el radio del circulo :\"))\n",
        "pi=3.1416\n",
        "area=pi*radio**2\n",
        "print(\"el area del circulo es :\")\n",
        "print(area)"
      ],
      "metadata": {
        "colab": {
          "base_uri": "https://localhost:8080/"
        },
        "id": "1SGtY8Z_0kvz",
        "outputId": "7d045453-452b-4f62-d95b-db38a6e8fb66"
      },
      "execution_count": 7,
      "outputs": [
        {
          "output_type": "stream",
          "name": "stdout",
          "text": [
            " ingresa el radio del circulo :6\n",
            "el area del circulo es :\n",
            "113.0976\n"
          ]
        }
      ]
    },
    {
      "cell_type": "markdown",
      "source": [
        "Ejemplo de código y ventana resultante de semestre pasado.\n",
        "\n"
      ],
      "metadata": {
        "id": "D5xr-Yxf5vRz"
      }
    },
    {
      "cell_type": "code",
      "source": [
        "db.carrosfind({modelo:\"taurus\"})\n",
        "db.carrosfind({color:\"azul\"})\n",
        "db.carrosfind({marca:\"figt\"})"
      ],
      "metadata": {
        "id": "-UsK8aqu5wBC"
      },
      "execution_count": null,
      "outputs": []
    }
  ]
}